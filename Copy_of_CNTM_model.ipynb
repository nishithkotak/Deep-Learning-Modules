{
  "nbformat": 4,
  "nbformat_minor": 0,
  "metadata": {
    "colab": {
      "name": "Copy of CNTM model.ipynb",
      "provenance": [],
      "collapsed_sections": []
    },
    "kernelspec": {
      "display_name": "Python 3",
      "name": "python3"
    },
    "widgets": {
      "application/vnd.jupyter.widget-state+json": {
        "c29c9585ad4b4b5497d5e3f6a1b65977": {
          "model_module": "@jupyter-widgets/controls",
          "model_name": "HBoxModel",
          "state": {
            "_view_name": "HBoxView",
            "_dom_classes": [],
            "_model_name": "HBoxModel",
            "_view_module": "@jupyter-widgets/controls",
            "_model_module_version": "1.5.0",
            "_view_count": null,
            "_view_module_version": "1.5.0",
            "box_style": "",
            "layout": "IPY_MODEL_c15fdb4b08bd4b69bdc78b2e39f7470e",
            "_model_module": "@jupyter-widgets/controls",
            "children": [
              "IPY_MODEL_ee7be5d5e933419ea6c32715b846d3e9",
              "IPY_MODEL_9e9b2c1d5b654671ba9db280caa50235"
            ]
          }
        },
        "c15fdb4b08bd4b69bdc78b2e39f7470e": {
          "model_module": "@jupyter-widgets/base",
          "model_name": "LayoutModel",
          "state": {
            "_view_name": "LayoutView",
            "grid_template_rows": null,
            "right": null,
            "justify_content": null,
            "_view_module": "@jupyter-widgets/base",
            "overflow": null,
            "_model_module_version": "1.2.0",
            "_view_count": null,
            "flex_flow": null,
            "width": null,
            "min_width": null,
            "border": null,
            "align_items": null,
            "bottom": null,
            "_model_module": "@jupyter-widgets/base",
            "top": null,
            "grid_column": null,
            "overflow_y": null,
            "overflow_x": null,
            "grid_auto_flow": null,
            "grid_area": null,
            "grid_template_columns": null,
            "flex": null,
            "_model_name": "LayoutModel",
            "justify_items": null,
            "grid_row": null,
            "max_height": null,
            "align_content": null,
            "visibility": null,
            "align_self": null,
            "height": null,
            "min_height": null,
            "padding": null,
            "grid_auto_rows": null,
            "grid_gap": null,
            "max_width": null,
            "order": null,
            "_view_module_version": "1.2.0",
            "grid_template_areas": null,
            "object_position": null,
            "object_fit": null,
            "grid_auto_columns": null,
            "margin": null,
            "display": null,
            "left": null
          }
        },
        "ee7be5d5e933419ea6c32715b846d3e9": {
          "model_module": "@jupyter-widgets/controls",
          "model_name": "FloatProgressModel",
          "state": {
            "_view_name": "ProgressView",
            "style": "IPY_MODEL_826170ba3c4b497498b6d77d790140df",
            "_dom_classes": [],
            "description": "Batches: 100%",
            "_model_name": "FloatProgressModel",
            "bar_style": "success",
            "max": 104,
            "_view_module": "@jupyter-widgets/controls",
            "_model_module_version": "1.5.0",
            "value": 104,
            "_view_count": null,
            "_view_module_version": "1.5.0",
            "orientation": "horizontal",
            "min": 0,
            "description_tooltip": null,
            "_model_module": "@jupyter-widgets/controls",
            "layout": "IPY_MODEL_ef866134aada43da963f0f0f2a5e472b"
          }
        },
        "9e9b2c1d5b654671ba9db280caa50235": {
          "model_module": "@jupyter-widgets/controls",
          "model_name": "HTMLModel",
          "state": {
            "_view_name": "HTMLView",
            "style": "IPY_MODEL_8b485c57b7d541c39259151c508251b7",
            "_dom_classes": [],
            "description": "",
            "_model_name": "HTMLModel",
            "placeholder": "​",
            "_view_module": "@jupyter-widgets/controls",
            "_model_module_version": "1.5.0",
            "value": " 104/104 [5:33:17&lt;00:00, 192.29s/it]",
            "_view_count": null,
            "_view_module_version": "1.5.0",
            "description_tooltip": null,
            "_model_module": "@jupyter-widgets/controls",
            "layout": "IPY_MODEL_010d73d88a9d488e88419f763658332b"
          }
        },
        "826170ba3c4b497498b6d77d790140df": {
          "model_module": "@jupyter-widgets/controls",
          "model_name": "ProgressStyleModel",
          "state": {
            "_view_name": "StyleView",
            "_model_name": "ProgressStyleModel",
            "description_width": "initial",
            "_view_module": "@jupyter-widgets/base",
            "_model_module_version": "1.5.0",
            "_view_count": null,
            "_view_module_version": "1.2.0",
            "bar_color": null,
            "_model_module": "@jupyter-widgets/controls"
          }
        },
        "ef866134aada43da963f0f0f2a5e472b": {
          "model_module": "@jupyter-widgets/base",
          "model_name": "LayoutModel",
          "state": {
            "_view_name": "LayoutView",
            "grid_template_rows": null,
            "right": null,
            "justify_content": null,
            "_view_module": "@jupyter-widgets/base",
            "overflow": null,
            "_model_module_version": "1.2.0",
            "_view_count": null,
            "flex_flow": null,
            "width": null,
            "min_width": null,
            "border": null,
            "align_items": null,
            "bottom": null,
            "_model_module": "@jupyter-widgets/base",
            "top": null,
            "grid_column": null,
            "overflow_y": null,
            "overflow_x": null,
            "grid_auto_flow": null,
            "grid_area": null,
            "grid_template_columns": null,
            "flex": null,
            "_model_name": "LayoutModel",
            "justify_items": null,
            "grid_row": null,
            "max_height": null,
            "align_content": null,
            "visibility": null,
            "align_self": null,
            "height": null,
            "min_height": null,
            "padding": null,
            "grid_auto_rows": null,
            "grid_gap": null,
            "max_width": null,
            "order": null,
            "_view_module_version": "1.2.0",
            "grid_template_areas": null,
            "object_position": null,
            "object_fit": null,
            "grid_auto_columns": null,
            "margin": null,
            "display": null,
            "left": null
          }
        },
        "8b485c57b7d541c39259151c508251b7": {
          "model_module": "@jupyter-widgets/controls",
          "model_name": "DescriptionStyleModel",
          "state": {
            "_view_name": "StyleView",
            "_model_name": "DescriptionStyleModel",
            "description_width": "",
            "_view_module": "@jupyter-widgets/base",
            "_model_module_version": "1.5.0",
            "_view_count": null,
            "_view_module_version": "1.2.0",
            "_model_module": "@jupyter-widgets/controls"
          }
        },
        "010d73d88a9d488e88419f763658332b": {
          "model_module": "@jupyter-widgets/base",
          "model_name": "LayoutModel",
          "state": {
            "_view_name": "LayoutView",
            "grid_template_rows": null,
            "right": null,
            "justify_content": null,
            "_view_module": "@jupyter-widgets/base",
            "overflow": null,
            "_model_module_version": "1.2.0",
            "_view_count": null,
            "flex_flow": null,
            "width": null,
            "min_width": null,
            "border": null,
            "align_items": null,
            "bottom": null,
            "_model_module": "@jupyter-widgets/base",
            "top": null,
            "grid_column": null,
            "overflow_y": null,
            "overflow_x": null,
            "grid_auto_flow": null,
            "grid_area": null,
            "grid_template_columns": null,
            "flex": null,
            "_model_name": "LayoutModel",
            "justify_items": null,
            "grid_row": null,
            "max_height": null,
            "align_content": null,
            "visibility": null,
            "align_self": null,
            "height": null,
            "min_height": null,
            "padding": null,
            "grid_auto_rows": null,
            "grid_gap": null,
            "max_width": null,
            "order": null,
            "_view_module_version": "1.2.0",
            "grid_template_areas": null,
            "object_position": null,
            "object_fit": null,
            "grid_auto_columns": null,
            "margin": null,
            "display": null,
            "left": null
          }
        },
        "d5e0758ff5f24646a4160c82dca94ee6": {
          "model_module": "@jupyter-widgets/controls",
          "model_name": "HBoxModel",
          "state": {
            "_view_name": "HBoxView",
            "_dom_classes": [],
            "_model_name": "HBoxModel",
            "_view_module": "@jupyter-widgets/controls",
            "_model_module_version": "1.5.0",
            "_view_count": null,
            "_view_module_version": "1.5.0",
            "box_style": "",
            "layout": "IPY_MODEL_750a5fba1aed4aa8af433a3fd57814bd",
            "_model_module": "@jupyter-widgets/controls",
            "children": [
              "IPY_MODEL_9b7cb5afdf7e43e8af45e2b0df5d50fe",
              "IPY_MODEL_19fe343047a147529f8da52c41621253"
            ]
          }
        },
        "750a5fba1aed4aa8af433a3fd57814bd": {
          "model_module": "@jupyter-widgets/base",
          "model_name": "LayoutModel",
          "state": {
            "_view_name": "LayoutView",
            "grid_template_rows": null,
            "right": null,
            "justify_content": null,
            "_view_module": "@jupyter-widgets/base",
            "overflow": null,
            "_model_module_version": "1.2.0",
            "_view_count": null,
            "flex_flow": null,
            "width": null,
            "min_width": null,
            "border": null,
            "align_items": null,
            "bottom": null,
            "_model_module": "@jupyter-widgets/base",
            "top": null,
            "grid_column": null,
            "overflow_y": null,
            "overflow_x": null,
            "grid_auto_flow": null,
            "grid_area": null,
            "grid_template_columns": null,
            "flex": null,
            "_model_name": "LayoutModel",
            "justify_items": null,
            "grid_row": null,
            "max_height": null,
            "align_content": null,
            "visibility": null,
            "align_self": null,
            "height": null,
            "min_height": null,
            "padding": null,
            "grid_auto_rows": null,
            "grid_gap": null,
            "max_width": null,
            "order": null,
            "_view_module_version": "1.2.0",
            "grid_template_areas": null,
            "object_position": null,
            "object_fit": null,
            "grid_auto_columns": null,
            "margin": null,
            "display": null,
            "left": null
          }
        },
        "9b7cb5afdf7e43e8af45e2b0df5d50fe": {
          "model_module": "@jupyter-widgets/controls",
          "model_name": "FloatProgressModel",
          "state": {
            "_view_name": "ProgressView",
            "style": "IPY_MODEL_afc18aae24ba40b587819ea8190903ba",
            "_dom_classes": [],
            "description": "Batches: 100%",
            "_model_name": "FloatProgressModel",
            "bar_style": "success",
            "max": 4,
            "_view_module": "@jupyter-widgets/controls",
            "_model_module_version": "1.5.0",
            "value": 4,
            "_view_count": null,
            "_view_module_version": "1.5.0",
            "orientation": "horizontal",
            "min": 0,
            "description_tooltip": null,
            "_model_module": "@jupyter-widgets/controls",
            "layout": "IPY_MODEL_32bf04d15f044f3cade7941fb3863003"
          }
        },
        "19fe343047a147529f8da52c41621253": {
          "model_module": "@jupyter-widgets/controls",
          "model_name": "HTMLModel",
          "state": {
            "_view_name": "HTMLView",
            "style": "IPY_MODEL_57b09d86be86442ea8abf26e776a42e7",
            "_dom_classes": [],
            "description": "",
            "_model_name": "HTMLModel",
            "placeholder": "​",
            "_view_module": "@jupyter-widgets/controls",
            "_model_module_version": "1.5.0",
            "value": " 4/4 [06:39&lt;00:00, 99.79s/it]",
            "_view_count": null,
            "_view_module_version": "1.5.0",
            "description_tooltip": null,
            "_model_module": "@jupyter-widgets/controls",
            "layout": "IPY_MODEL_d5aa9f38e17349efbd633fd5d855ab90"
          }
        },
        "afc18aae24ba40b587819ea8190903ba": {
          "model_module": "@jupyter-widgets/controls",
          "model_name": "ProgressStyleModel",
          "state": {
            "_view_name": "StyleView",
            "_model_name": "ProgressStyleModel",
            "description_width": "initial",
            "_view_module": "@jupyter-widgets/base",
            "_model_module_version": "1.5.0",
            "_view_count": null,
            "_view_module_version": "1.2.0",
            "bar_color": null,
            "_model_module": "@jupyter-widgets/controls"
          }
        },
        "32bf04d15f044f3cade7941fb3863003": {
          "model_module": "@jupyter-widgets/base",
          "model_name": "LayoutModel",
          "state": {
            "_view_name": "LayoutView",
            "grid_template_rows": null,
            "right": null,
            "justify_content": null,
            "_view_module": "@jupyter-widgets/base",
            "overflow": null,
            "_model_module_version": "1.2.0",
            "_view_count": null,
            "flex_flow": null,
            "width": null,
            "min_width": null,
            "border": null,
            "align_items": null,
            "bottom": null,
            "_model_module": "@jupyter-widgets/base",
            "top": null,
            "grid_column": null,
            "overflow_y": null,
            "overflow_x": null,
            "grid_auto_flow": null,
            "grid_area": null,
            "grid_template_columns": null,
            "flex": null,
            "_model_name": "LayoutModel",
            "justify_items": null,
            "grid_row": null,
            "max_height": null,
            "align_content": null,
            "visibility": null,
            "align_self": null,
            "height": null,
            "min_height": null,
            "padding": null,
            "grid_auto_rows": null,
            "grid_gap": null,
            "max_width": null,
            "order": null,
            "_view_module_version": "1.2.0",
            "grid_template_areas": null,
            "object_position": null,
            "object_fit": null,
            "grid_auto_columns": null,
            "margin": null,
            "display": null,
            "left": null
          }
        },
        "57b09d86be86442ea8abf26e776a42e7": {
          "model_module": "@jupyter-widgets/controls",
          "model_name": "DescriptionStyleModel",
          "state": {
            "_view_name": "StyleView",
            "_model_name": "DescriptionStyleModel",
            "description_width": "",
            "_view_module": "@jupyter-widgets/base",
            "_model_module_version": "1.5.0",
            "_view_count": null,
            "_view_module_version": "1.2.0",
            "_model_module": "@jupyter-widgets/controls"
          }
        },
        "d5aa9f38e17349efbd633fd5d855ab90": {
          "model_module": "@jupyter-widgets/base",
          "model_name": "LayoutModel",
          "state": {
            "_view_name": "LayoutView",
            "grid_template_rows": null,
            "right": null,
            "justify_content": null,
            "_view_module": "@jupyter-widgets/base",
            "overflow": null,
            "_model_module_version": "1.2.0",
            "_view_count": null,
            "flex_flow": null,
            "width": null,
            "min_width": null,
            "border": null,
            "align_items": null,
            "bottom": null,
            "_model_module": "@jupyter-widgets/base",
            "top": null,
            "grid_column": null,
            "overflow_y": null,
            "overflow_x": null,
            "grid_auto_flow": null,
            "grid_area": null,
            "grid_template_columns": null,
            "flex": null,
            "_model_name": "LayoutModel",
            "justify_items": null,
            "grid_row": null,
            "max_height": null,
            "align_content": null,
            "visibility": null,
            "align_self": null,
            "height": null,
            "min_height": null,
            "padding": null,
            "grid_auto_rows": null,
            "grid_gap": null,
            "max_width": null,
            "order": null,
            "_view_module_version": "1.2.0",
            "grid_template_areas": null,
            "object_position": null,
            "object_fit": null,
            "grid_auto_columns": null,
            "margin": null,
            "display": null,
            "left": null
          }
        }
      }
    }
  },
  "cells": [
    {
      "cell_type": "code",
      "metadata": {
        "id": "ZkduZEftBN09"
      },
      "source": [
        "from google.colab import drive #toimport google drive data"
      ],
      "execution_count": null,
      "outputs": []
    },
    {
      "cell_type": "code",
      "metadata": {
        "colab": {
          "base_uri": "https://localhost:8080/"
        },
        "id": "08mFoVpJD8mO",
        "outputId": "8e3d74a8-cd96-44ce-a7e4-2f39e0bf27fe"
      },
      "source": [
        "drive.mount('/content/drive') #to mount the drive data into colab cloud and enterr the activation code"
      ],
      "execution_count": null,
      "outputs": [
        {
          "output_type": "stream",
          "text": [
            "Mounted at /content/drive\n"
          ],
          "name": "stdout"
        }
      ]
    },
    {
      "cell_type": "code",
      "metadata": {
        "id": "1iG8O40_D-ua"
      },
      "source": [
        "cd /content/drive/\"My Drive/Colab Notebooks/TITLE ABSTRACT/\""
      ],
      "execution_count": null,
      "outputs": []
    },
    {
      "cell_type": "code",
      "metadata": {
        "id": "cc9ycMDTQDqf"
      },
      "source": [
        "reviewer = [line.strip() for line in open(\"title+abstract_reviewer.txt\", encoding=\"utf-8\").readlines()]"
      ],
      "execution_count": null,
      "outputs": []
    },
    {
      "cell_type": "code",
      "metadata": {
        "colab": {
          "base_uri": "https://localhost:8080/"
        },
        "id": "lK1l4kZ1THo4",
        "outputId": "6625c4dd-a51f-48e1-b1cb-6729718a5432"
      },
      "source": [
        "len(reviewer)"
      ],
      "execution_count": null,
      "outputs": [
        {
          "output_type": "execute_result",
          "data": {
            "text/plain": [
              "2061"
            ]
          },
          "metadata": {
            "tags": []
          },
          "execution_count": 14
        }
      ]
    },
    {
      "cell_type": "code",
      "metadata": {
        "id": "0JtwcBXNTW9j"
      },
      "source": [
        "!pip install contextualized-topic-models"
      ],
      "execution_count": null,
      "outputs": []
    },
    {
      "cell_type": "code",
      "metadata": {
        "id": "pLr-XWxhTYvC"
      },
      "source": [
        "from contextualized_topic_models.models.ctm import CTM\r\n",
        "from contextualized_topic_models.utils.data_preparation import bert_embeddings_from_list, TextHandler\r\n",
        "from contextualized_topic_models.datasets.dataset import CTMDataset\r\n",
        "from contextualized_topic_models.utils.data_preparation import QuickText\r\n",
        "from contextualized_topic_models.evaluation.measures import CoherenceNPMI, InvertedRBO\r\n",
        "from gensim.corpora.dictionary import Dictionary\r\n",
        "from gensim.test.utils import common_texts\r\n",
        "from gensim.models import ldamodel \r\n",
        "from contextualized_topic_models.utils.preprocessing import SimplePreprocessing\r\n",
        "from contextualized_topic_models.utils.data_preparation import QuickText\r\n",
        "import nltk\r\n",
        "import os\r\n",
        "import pickle"
      ],
      "execution_count": null,
      "outputs": []
    },
    {
      "cell_type": "code",
      "metadata": {
        "colab": {
          "base_uri": "https://localhost:8080/"
        },
        "id": "g7XK2TmlTj_4",
        "outputId": "e8741c3c-0d99-4509-dea5-ae3e8ca52373"
      },
      "source": [
        "nltk.download('stopwords')\r\n",
        "\r\n",
        "sp = SimplePreprocessing(reviewer)\r\n",
        "preprocessed_documents, unpreprocessed_corpus, vocab = sp.preprocess()"
      ],
      "execution_count": null,
      "outputs": [
        {
          "output_type": "stream",
          "text": [
            "[nltk_data] Downloading package stopwords to /root/nltk_data...\n",
            "[nltk_data]   Unzipping corpora/stopwords.zip.\n"
          ],
          "name": "stdout"
        }
      ]
    },
    {
      "cell_type": "code",
      "metadata": {
        "colab": {
          "base_uri": "https://localhost:8080/"
        },
        "id": "zhdQFE1uW9Hr",
        "outputId": "0c70d90d-8ca4-4819-af9a-2cdeda263e1d"
      },
      "source": [
        "import spacy\r\n",
        "import os\r\n",
        "import re\r\n",
        "import nltk\r\n",
        "import string\r\n",
        "import en_core_web_sm\r\n",
        "import itertools, string\r\n",
        "import numpy as np\r\n",
        "import json\r\n",
        "import csv\r\n",
        "from nltk.corpus import stopwords \r\n",
        "from nltk.tokenize import word_tokenize \r\n",
        "import json\r\n",
        "from nltk.stem import WordNetLemmatizer\r\n",
        "lemmatizer = WordNetLemmatizer()\r\n",
        "nltk.download('punkt')\r\n",
        "\r\n",
        "#nlp = en_core_web_sm.load()\r\n",
        "nlp=spacy.load(\"en_core_web_sm\")\r\n",
        "\r\n",
        "POS_KEPT = [\"ADJ\", \"NOUN\", \"PROPN\", \"VERB\"]\r\n",
        "research_stopwords=[]\r\n",
        "#good_tags = set(['JJ', 'JJR', 'JJS', 'NN', 'NNP', 'NNS', 'NNPS','VB','VBN','VBD','VBG','VBZ'])  #Allowed POS tags\r\n",
        "english_stopwords = set(nltk.corpus.stopwords.words('english'))\r\n",
        "research_stopwords=set(research_stopwords)\r\n",
        "roman=[\"i\",\"ii\",\"iii\",\"iv\",\"v\",\"vi\",\"vii\",\"viii\",\"ix\",\"x\"]\r\n",
        "roman=set(roman)\r\n",
        "stop_words=english_stopwords.union(research_stopwords)\r\n",
        "stop_words=stop_words.union(roman)\r\n",
        "punct = list(string.punctuation)\r\n",
        "punct.remove('.')\r\n",
        "punct.remove(',')\r\n",
        "punct.remove(':')\r\n",
        "punct.remove(';')"
      ],
      "execution_count": null,
      "outputs": [
        {
          "output_type": "stream",
          "text": [
            "[nltk_data] Downloading package punkt to /root/nltk_data...\n",
            "[nltk_data]   Package punkt is already up-to-date!\n"
          ],
          "name": "stdout"
        }
      ]
    },
    {
      "cell_type": "code",
      "metadata": {
        "id": "H6ZNP7DHXfPn"
      },
      "source": [
        "import unicodedata\r\n",
        "import operator\r\n",
        "def remove_accents(input_str):              #function to remove greek mathematical symbols\r\n",
        "    nfkd_form = unicodedata.normalize('NFKD', input_str)\r\n",
        "\r\n",
        "    only_ascii = nfkd_form.encode('ASCII', 'ignore')\r\n",
        "    return (only_ascii.decode())\r\n"
      ],
      
      "execution_count": null,
      "outputs": []
    },
    {
      "cell_type": "code",
      "metadata": {
        "id": "aFXI8YQpX-gO"
      },
      "source": [
        "def is_subseq(x, y):\r\n",
        "    #if(len(x)>len(y)):\r\n",
        "        #x,y=y,x\r\n",
        "    it = iter(y)\r\n",
        "    return (all(any(c == ch for c in it) for ch in x))"
      ],
      "execution_count": null,
      "outputs": []
    },
    {
      "cell_type": "code",
      "metadata": {
        "colab": {
          "base_uri": "https://localhost:8080/"
        },
        "id": "-Ur16dewafPu",
        "outputId": "c47bc7b2-ccc1-415f-b4a1-9b88ef1c5039"
      },
      "source": [
        "handler = TextHandler(sentences=preprocessed_documents)\r\n",
        "handler.prepare() # create vocabulary and training data"
      ],
      "execution_count": null,
      "outputs": [
        {
          "output_type": "stream",
          "text": [
            "/usr/local/lib/python3.6/dist-packages/contextualized_topic_models/utils/data_preparation.py:161: Warning: The vocab you are using has more than 2000 words, reconstructing high-dimensional vectors requiressignificantly more training epochs and training samples. Consider reducing the number of vocabulary items. See https://github.com/MilaNLProc/contextualized-topic-models#preprocessing and https://github.com/MilaNLProc/contextualized-topic-models#tldr\n",
            "  \"and https://github.com/MilaNLProc/contextualized-topic-models#tldr\", Warning)\n"
          ],
          "name": "stderr"
        }
      ]
    },
    {
      "cell_type": "code",
      "metadata": {
        "colab": {
          "base_uri": "https://localhost:8080/",
          "height": 82,
          "referenced_widgets": [
            "c29c9585ad4b4b5497d5e3f6a1b65977",
            "c15fdb4b08bd4b69bdc78b2e39f7470e",
            "ee7be5d5e933419ea6c32715b846d3e9",
            "9e9b2c1d5b654671ba9db280caa50235",
            "826170ba3c4b497498b6d77d790140df",
            "ef866134aada43da963f0f0f2a5e472b",
            "8b485c57b7d541c39259151c508251b7",
            "010d73d88a9d488e88419f763658332b"
          ]
        },
        "id": "dghWL17ccSmJ",
        "outputId": "aaaa5980-69e4-4fc9-9dd6-a842217516d8"
      },
      "source": [
        "if os.path.exists(\"saved_embeddings_reviewer only new\"):\r\n",
        "  with open(\"saved_embeddings_reviewer only new\", \"rb\") as filino:\r\n",
        "    training_bert = pickle.load(filino)\r\n",
        "else:\r\n",
        "  training_bert = bert_embeddings_from_list(unpreprocessed_corpus, \"bert-base-nli-mean-tokens\", batch_size=20)      #https://pypi.org/project/spacy-sentence-bert/0.0.3/\r\n",
        "  with open(\"saved_embeddings_reviewer only new\", \"wb\") as filino:                                                                            #batch_size:size of batch to use for training\r\n",
        "    pickle.dump(training_bert, filino)"
      ],
      "execution_count": null,
      "outputs": [
        {
          "output_type": "stream",
          "text": [
            "100%|██████████| 405M/405M [00:18<00:00, 22.1MB/s]\n"
          ],
          "name": "stderr"
        },
        {
          "output_type": "display_data",
          "data": {
            "application/vnd.jupyter.widget-view+json": {
              "model_id": "c29c9585ad4b4b5497d5e3f6a1b65977",
              "version_minor": 0,
              "version_major": 2
            },
            "text/plain": [
              "HBox(children=(FloatProgress(value=0.0, description='Batches', max=104.0, style=ProgressStyle(description_widt…"
            ]
          },
          "metadata": {
            "tags": []
          }
        },
        {
          "output_type": "stream",
          "text": [
            "\n"
          ],
          "name": "stdout"
        }
      ]
    },
    {
      "cell_type": "code",
      "metadata": {
        "colab": {
          "base_uri": "https://localhost:8080/"
        },
        "id": "3Cb_urY5choW",
        "outputId": "eb59d226-d9f7-450f-c2fd-5ac638306638"
      },
      "source": [
        "handler.bow #20000 documents with 2000 vocab in total"
      ],
      "execution_count": null,
      "outputs": [
        {
          "output_type": "execute_result",
          "data": {
            "text/plain": [
              "<2061x14020 sparse matrix of type '<class 'numpy.int64'>'\n",
              "\twith 116371 stored elements in Compressed Sparse Row format>"
            ]
          },
          "metadata": {
            "tags": []
          },
          "execution_count": 26
        }
      ]
    },
    {
      "cell_type": "code",
      "metadata": {
        "colab": {
          "base_uri": "https://localhost:8080/"
        },
        "id": "aIG8zf9fcj54",
        "outputId": "bc6558d8-1801-4060-8bd9-df44e63bb87c"
      },
      "source": [
        "training_bert.shape   #20000 document with 768 features bert embedding cell numbers     #it has tendancy to convert to 768 dimensions"
      ],
      "execution_count": null,
      "outputs": [
        {
          "output_type": "execute_result",
          "data": {
            "text/plain": [
              "(2061, 768)"
            ]
          },
          "metadata": {
            "tags": []
          },
          "execution_count": 27
        }
      ]
    },
    {
      "cell_type": "code",
      "metadata": {
        "id": "sCZIhd4Ocqxj"
      },
      "source": [
        "training_dataset = CTMDataset(handler.bow, training_bert, handler.idx2token)"
      ],
      "execution_count": null,
      "outputs": []
    },
    {
      "cell_type": "code",
      "metadata": {
        "colab": {
          "base_uri": "https://localhost:8080/"
        },
        "id": "JTkV2l0acuvv",
        "outputId": "8d695ecf-6034-426a-bdcc-71f4fbb4fa38"
      },
      "source": [
        "ctm = CTM(input_size=len(handler.vocab), bert_input_size=768, inference_type=\"combined\", n_components=15, num_epochs=40)    #n_components: number of topic components\r\n",
        "\r\n",
        "ctm.fit(training_dataset) "
      ],
      "execution_count": null,
      "outputs": [
        {
          "output_type": "stream",
          "text": [
            "Settings: \n",
            "                   N Components: 15\n",
            "                   Topic Prior Mean: 0.0\n",
            "                   Topic Prior Variance: 0.9333333333333333\n",
            "                   Model Type: prodLDA\n",
            "                   Hidden Sizes: (100, 100)\n",
            "                   Activation: softplus\n",
            "                   Dropout: 0.2\n",
            "                   Learn Priors: True\n",
            "                   Learning Rate: 0.002\n",
            "                   Momentum: 0.99\n",
            "                   Reduce On Plateau: False\n",
            "                   Save Dir: None\n"
          ],
          "name": "stdout"
        },
        {
          "output_type": "stream",
          "text": [
            "/usr/local/lib/python3.6/dist-packages/contextualized_topic_models/models/ctm.py:47: DeprecationWarning: Direct call to CTM is deprecated and will be removed in version 2, use CombinedTM or ZeroShotTM\n",
            "  warnings.warn(\"Direct call to CTM is deprecated and will be removed in version 2, use CombinedTM or ZeroShotTM\", DeprecationWarning)\n"
          ],
          "name": "stderr"
        },
        {
          "output_type": "stream",
          "text": [
            "Epoch: [1/40]\tSamples: [2061/82440]\tTrain Loss: 565.4507153403233\tTime: 0:00:11.774847\n",
            "Epoch: [2/40]\tSamples: [4122/82440]\tTrain Loss: 555.2265091941866\tTime: 0:00:11.235461\n",
            "Epoch: [3/40]\tSamples: [6183/82440]\tTrain Loss: 544.0019083481168\tTime: 0:00:10.940606\n",
            "Epoch: [4/40]\tSamples: [8244/82440]\tTrain Loss: 538.5861504863385\tTime: 0:00:10.940444\n",
            "Epoch: [5/40]\tSamples: [10305/82440]\tTrain Loss: 534.500305146167\tTime: 0:00:10.888806\n",
            "Epoch: [6/40]\tSamples: [12366/82440]\tTrain Loss: 530.0398898062227\tTime: 0:00:10.914559\n",
            "Epoch: [7/40]\tSamples: [14427/82440]\tTrain Loss: 527.824815064365\tTime: 0:00:11.195840\n",
            "Epoch: [8/40]\tSamples: [16488/82440]\tTrain Loss: 524.8217681040757\tTime: 0:00:10.973800\n",
            "Epoch: [9/40]\tSamples: [18549/82440]\tTrain Loss: 523.2810794213974\tTime: 0:00:10.965823\n",
            "Epoch: [10/40]\tSamples: [20610/82440]\tTrain Loss: 521.4444269127547\tTime: 0:00:10.899353\n",
            "Epoch: [11/40]\tSamples: [22671/82440]\tTrain Loss: 519.4404832302281\tTime: 0:00:10.990043\n",
            "Epoch: [12/40]\tSamples: [24732/82440]\tTrain Loss: 517.3078102730016\tTime: 0:00:10.963324\n",
            "Epoch: [13/40]\tSamples: [26793/82440]\tTrain Loss: 515.7706042367935\tTime: 0:00:10.941094\n",
            "Epoch: [14/40]\tSamples: [28854/82440]\tTrain Loss: 515.011801670154\tTime: 0:00:11.082386\n",
            "Epoch: [15/40]\tSamples: [30915/82440]\tTrain Loss: 512.9484764961638\tTime: 0:00:10.950825\n",
            "Epoch: [16/40]\tSamples: [32976/82440]\tTrain Loss: 511.92524937644043\tTime: 0:00:10.903022\n",
            "Epoch: [17/40]\tSamples: [35037/82440]\tTrain Loss: 513.1418882293183\tTime: 0:00:11.022146\n",
            "Epoch: [18/40]\tSamples: [37098/82440]\tTrain Loss: 511.0575724106168\tTime: 0:00:10.920322\n",
            "Epoch: [19/40]\tSamples: [39159/82440]\tTrain Loss: 510.3727497839338\tTime: 0:00:10.933937\n",
            "Epoch: [20/40]\tSamples: [41220/82440]\tTrain Loss: 508.45244079027174\tTime: 0:00:10.937081\n",
            "Epoch: [21/40]\tSamples: [43281/82440]\tTrain Loss: 507.67063380375123\tTime: 0:00:10.946275\n",
            "Epoch: [22/40]\tSamples: [45342/82440]\tTrain Loss: 508.1034523687682\tTime: 0:00:10.896199\n",
            "Epoch: [23/40]\tSamples: [47403/82440]\tTrain Loss: 506.37420183428856\tTime: 0:00:10.932707\n",
            "Epoch: [24/40]\tSamples: [49464/82440]\tTrain Loss: 506.3254026128851\tTime: 0:00:11.079785\n",
            "Epoch: [25/40]\tSamples: [51525/82440]\tTrain Loss: 506.2935773839307\tTime: 0:00:11.125229\n",
            "Epoch: [26/40]\tSamples: [53586/82440]\tTrain Loss: 505.50720102309253\tTime: 0:00:10.970033\n",
            "Epoch: [27/40]\tSamples: [55647/82440]\tTrain Loss: 505.68192776564774\tTime: 0:00:11.060016\n",
            "Epoch: [28/40]\tSamples: [57708/82440]\tTrain Loss: 505.18544926613293\tTime: 0:00:11.013963\n",
            "Epoch: [29/40]\tSamples: [59769/82440]\tTrain Loss: 504.59798129700386\tTime: 0:00:10.973685\n",
            "Epoch: [30/40]\tSamples: [61830/82440]\tTrain Loss: 504.63022704959667\tTime: 0:00:10.934158\n",
            "Epoch: [31/40]\tSamples: [63891/82440]\tTrain Loss: 504.6570754109049\tTime: 0:00:11.072417\n",
            "Epoch: [32/40]\tSamples: [65952/82440]\tTrain Loss: 504.81827716559013\tTime: 0:00:10.919990\n",
            "Epoch: [33/40]\tSamples: [68013/82440]\tTrain Loss: 503.95286534146044\tTime: 0:00:11.000202\n",
            "Epoch: [34/40]\tSamples: [70074/82440]\tTrain Loss: 502.68590461623603\tTime: 0:00:10.980656\n",
            "Epoch: [35/40]\tSamples: [72135/82440]\tTrain Loss: 502.924664670897\tTime: 0:00:10.959992\n",
            "Epoch: [36/40]\tSamples: [74196/82440]\tTrain Loss: 502.8717753536663\tTime: 0:00:10.927575\n",
            "Epoch: [37/40]\tSamples: [76257/82440]\tTrain Loss: 503.22231414513584\tTime: 0:00:11.053676\n",
            "Epoch: [38/40]\tSamples: [78318/82440]\tTrain Loss: 501.88151515496116\tTime: 0:00:10.940377\n",
            "Epoch: [39/40]\tSamples: [80379/82440]\tTrain Loss: 500.34690191351285\tTime: 0:00:11.044342\n",
            "Epoch: [40/40]\tSamples: [82440/82440]\tTrain Loss: 502.06028745337517\tTime: 0:00:11.092592\n"
          ],
          "name": "stdout"
        }
      ]
    },
    {
      "cell_type": "code",
      "metadata": {
        "colab": {
          "base_uri": "https://localhost:8080/"
        },
        "id": "A6XOT9a9op40",
        "outputId": "69ff139a-f667-4e78-f0df-f3fe3ba5ad6e"
      },
      "source": [
        "ctm.save(\"ctm\")"
      ],
      "execution_count": null,
      "outputs": [
        {
          "output_type": "stream",
          "text": [
            "/usr/local/lib/python3.6/dist-packages/contextualized_topic_models/models/ctm.py:382: Warning: This is an experimental feature that we has not been fully tested. Refer to the following issue:https://github.com/MilaNLProc/contextualized-topic-models/issues/38\n",
            "  Warning)\n"
          ],
          "name": "stderr"
        }
      ]
    },
    {
      "cell_type": "code",
      "metadata": {
        "colab": {
          "base_uri": "https://localhost:8080/"
        },
        "id": "WxhIJL7acx_j",
        "outputId": "0588c6f0-3324-42c3-c7bd-379f97b56ba5"
      },
      "source": [
        "ctm.get_topic_lists(15)"
      ],
      "execution_count": null,
      "outputs": [
        {
          "output_type": "execute_result",
          "data": {
            "text/plain": [
              "[['gate',\n",
              "  'design',\n",
              "  'element',\n",
              "  'simulation',\n",
              "  'numerical',\n",
              "  'compact',\n",
              "  'switching',\n",
              "  'shell',\n",
              "  'circuit',\n",
              "  'transistor',\n",
              "  'charge',\n",
              "  'conical',\n",
              "  'displacement',\n",
              "  'motor',\n",
              "  'vibration'],\n",
              " ['dielectric',\n",
              "  'gate',\n",
              "  'transistor',\n",
              "  'beam',\n",
              "  'polarization',\n",
              "  'charge',\n",
              "  'oxide',\n",
              "  'band',\n",
              "  'device',\n",
              "  'dual',\n",
              "  'thickness',\n",
              "  'silicon',\n",
              "  'range',\n",
              "  'material',\n",
              "  'design'],\n",
              " ['the',\n",
              "  'image',\n",
              "  'art',\n",
              "  'pixel',\n",
              "  'segmentation',\n",
              "  'feature',\n",
              "  'processing',\n",
              "  'coefficient',\n",
              "  'object',\n",
              "  'vision',\n",
              "  'step',\n",
              "  'classification',\n",
              "  'automatic',\n",
              "  'statistical',\n",
              "  'transform'],\n",
              " ['project',\n",
              "  'management',\n",
              "  'environment',\n",
              "  'development',\n",
              "  'industry',\n",
              "  'significant',\n",
              "  'various',\n",
              "  'health',\n",
              "  'economy',\n",
              "  'social',\n",
              "  'government',\n",
              "  'natural',\n",
              "  'change',\n",
              "  'water',\n",
              "  'global'],\n",
              " ['service',\n",
              "  'mobile',\n",
              "  'cloud',\n",
              "  'network',\n",
              "  'infrastructure',\n",
              "  'security',\n",
              "  'smart',\n",
              "  'protocol',\n",
              "  'computing',\n",
              "  'attack',\n",
              "  'sensor',\n",
              "  'issue',\n",
              "  'environment',\n",
              "  'communication',\n",
              "  'wireless'],\n",
              " ['wind',\n",
              "  'control',\n",
              "  'power',\n",
              "  'load',\n",
              "  'voltage',\n",
              "  'operation',\n",
              "  'speed',\n",
              "  'converter',\n",
              "  'controller',\n",
              "  'renewable',\n",
              "  'reactive',\n",
              "  'unit',\n",
              "  'generator',\n",
              "  'three',\n",
              "  'matlab'],\n",
              " ['feature',\n",
              "  'video',\n",
              "  'retrieval',\n",
              "  'vision',\n",
              "  'biometric',\n",
              "  'content',\n",
              "  'detection',\n",
              "  'convolutional',\n",
              "  'driver',\n",
              "  'neural',\n",
              "  'vehicle',\n",
              "  'information',\n",
              "  'score',\n",
              "  'fusion',\n",
              "  'color'],\n",
              " ['rem',\n",
              "  'perturbec',\n",
              "  'privatization',\n",
              "  'brovey',\n",
              "  'lognormal',\n",
              "  'xpr',\n",
              "  'nurturing',\n",
              "  '4fg900',\n",
              "  'dispatched',\n",
              "  'periodogram',\n",
              "  'labelled',\n",
              "  'landcover',\n",
              "  'x9385',\n",
              "  'blocks',\n",
              "  'cvvu'],\n",
              " ['network',\n",
              "  'wireless',\n",
              "  'energy',\n",
              "  'capacity',\n",
              "  'routing',\n",
              "  'transmission',\n",
              "  'scenario',\n",
              "  'protocol',\n",
              "  'communication',\n",
              "  'spectrum',\n",
              "  'mobile',\n",
              "  'efficient',\n",
              "  'sensor',\n",
              "  'radio',\n",
              "  'scheme'],\n",
              " ['signal',\n",
              "  'error',\n",
              "  'channel',\n",
              "  'estimation',\n",
              "  'relay',\n",
              "  'non',\n",
              "  'multiple',\n",
              "  'probability',\n",
              "  'two',\n",
              "  'sensing',\n",
              "  'code',\n",
              "  'filter',\n",
              "  'satellite',\n",
              "  'noise',\n",
              "  'fading'],\n",
              " ['cell',\n",
              "  'protein',\n",
              "  'stress',\n",
              "  'induced',\n",
              "  'gene',\n",
              "  'cancer',\n",
              "  'role',\n",
              "  'activation',\n",
              "  'pathway',\n",
              "  'expression',\n",
              "  'increased',\n",
              "  'mediated',\n",
              "  'molecular',\n",
              "  'drug',\n",
              "  'disease'],\n",
              " ['converter',\n",
              "  'control',\n",
              "  'power',\n",
              "  'wind',\n",
              "  'controller',\n",
              "  'voltage',\n",
              "  'inverter',\n",
              "  'active',\n",
              "  'generator',\n",
              "  'phase',\n",
              "  'reactive',\n",
              "  'current',\n",
              "  'three',\n",
              "  'fed',\n",
              "  'speed'],\n",
              " ['gujarati',\n",
              "  'patient',\n",
              "  'script',\n",
              "  'clinical',\n",
              "  'handwritten',\n",
              "  'stroke',\n",
              "  'word',\n",
              "  'syndrome',\n",
              "  'hand',\n",
              "  'diagnosis',\n",
              "  'printed',\n",
              "  'age',\n",
              "  'care',\n",
              "  'trial',\n",
              "  'child'],\n",
              " ['secret',\n",
              "  'file',\n",
              "  'benchmark',\n",
              "  'server',\n",
              "  'password',\n",
              "  'attacker',\n",
              "  'query',\n",
              "  'entity',\n",
              "  'instance',\n",
              "  'minimises',\n",
              "  'mining',\n",
              "  'attack',\n",
              "  'client',\n",
              "  'game',\n",
              "  'perturbec'],\n",
              " ['film',\n",
              "  'spectroscopy',\n",
              "  'electron',\n",
              "  'surface',\n",
              "  'reaction',\n",
              "  'crystal',\n",
              "  'substrate',\n",
              "  'liquid',\n",
              "  'ray',\n",
              "  'ion',\n",
              "  'absorption',\n",
              "  'organic',\n",
              "  'chitosan',\n",
              "  'synthesis',\n",
              "  'microscopy']]"
            ]
          },
          "metadata": {
            "tags": []
          },
          "execution_count": 63
        }
      ]
    },
    {
      "cell_type": "code",
      "metadata": {
        "id": "O1u4PzW3c6bM"
      },
      "source": [
        "import pandas as pd\r\n",
        "b=ctm.get_doc_topic_distribution(training_dataset,20)            #TO FIND DOC-TOPIC DISTRIBUTION\r\n",
        "DF = pd.DataFrame(b) \r\n",
        "DF.to_csv(\"similarity_Score_reviewer.csv\")"
      ],
      "execution_count": null,
      "outputs": []
    },
    {
      "cell_type": "code",
      "metadata": {
        "colab": {
          "base_uri": "https://localhost:8080/",
          "height": 424
        },
        "id": "lsXm4nJZdBor",
        "outputId": "9018154d-fed6-4dc2-bc60-1eba5c7697da"
      },
      "source": [
        "pip install matplotlib==3.1.3"
      ],
      "execution_count": null,
      "outputs": [
        {
          "output_type": "stream",
          "text": [
            "Collecting matplotlib==3.1.3\n",
            "\u001b[?25l  Downloading https://files.pythonhosted.org/packages/7e/07/4b361d6d0f4e08942575f83a11d33f36897e1aae4279046606dd1808778a/matplotlib-3.1.3-cp36-cp36m-manylinux1_x86_64.whl (13.1MB)\n",
            "\u001b[K     |████████████████████████████████| 13.1MB 319kB/s \n",
            "\u001b[?25hRequirement already satisfied: pyparsing!=2.0.4,!=2.1.2,!=2.1.6,>=2.0.1 in /usr/local/lib/python3.6/dist-packages (from matplotlib==3.1.3) (2.4.7)\n",
            "Requirement already satisfied: python-dateutil>=2.1 in /usr/local/lib/python3.6/dist-packages (from matplotlib==3.1.3) (2.8.1)\n",
            "Requirement already satisfied: cycler>=0.10 in /usr/local/lib/python3.6/dist-packages (from matplotlib==3.1.3) (0.10.0)\n",
            "Requirement already satisfied: kiwisolver>=1.0.1 in /usr/local/lib/python3.6/dist-packages (from matplotlib==3.1.3) (1.3.1)\n",
            "Requirement already satisfied: numpy>=1.11 in /usr/local/lib/python3.6/dist-packages (from matplotlib==3.1.3) (1.19.1)\n",
            "Requirement already satisfied: six>=1.5 in /usr/local/lib/python3.6/dist-packages (from python-dateutil>=2.1->matplotlib==3.1.3) (1.15.0)\n",
            "\u001b[31mERROR: contextualized-topic-models 1.7.1 has requirement matplotlib==3.3.3, but you'll have matplotlib 3.1.3 which is incompatible.\u001b[0m\n",
            "\u001b[31mERROR: albumentations 0.1.12 has requirement imgaug<0.2.7,>=0.2.5, but you'll have imgaug 0.2.9 which is incompatible.\u001b[0m\n",
            "Installing collected packages: matplotlib\n",
            "  Found existing installation: matplotlib 3.3.3\n",
            "    Uninstalling matplotlib-3.3.3:\n",
            "      Successfully uninstalled matplotlib-3.3.3\n",
            "Successfully installed matplotlib-3.1.3\n"
          ],
          "name": "stdout"
        },
        {
          "output_type": "stream",
          "text": [
            "/usr/local/lib/python3.6/dist-packages/google/colab/_pip.py:87: ResourceWarning: unclosed file <_io.TextIOWrapper name='/usr/local/lib/python3.6/dist-packages/matplotlib-3.1.3.dist-info/top_level.txt' mode='r' encoding='UTF-8'>\n",
            "  for line in open(toplevel):\n"
          ],
          "name": "stderr"
        },
        {
          "output_type": "display_data",
          "data": {
            "application/vnd.colab-display-data+json": {
              "pip_warning": {
                "packages": [
                  "matplotlib",
                  "mpl_toolkits"
                ]
              }
            }
          },
          "metadata": {
            "tags": []
          }
        }
      ]
    },
    {
      "cell_type": "code",
      "metadata": {
        "id": "BJPvWYJkhicG"
      },
      "source": [
        "ctm.get_wordcloud(topic_id=8, n_words=25)"
      ],
      "execution_count": null,
      "outputs": []
    },
    {
      "cell_type": "code",
      "metadata": {
        "id": "ciBw1dcShjd-",
        "colab": {
          "base_uri": "https://localhost:8080/"
        },
        "outputId": "b26d4b17-1ba3-4716-b460-18172f8627fd"
      },
      "source": [
        "query = [line.strip() for line in open(\"title+abstract_query.txt\", encoding=\"utf-8\").readlines()]"
      ],
      "execution_count": null,
      "outputs": [
        {
          "output_type": "stream",
          "text": [
            "/usr/local/lib/python3.6/dist-packages/ipykernel_launcher.py:1: ResourceWarning: unclosed file <_io.TextIOWrapper name='title+abstract_query.txt' mode='r' encoding='utf-8'>\n",
            "  \"\"\"Entry point for launching an IPython kernel.\n"
          ],
          "name": "stderr"
        }
      ]
    },
    {
      "cell_type": "code",
      "metadata": {
        "id": "lMeleQCchugx",
        "colab": {
          "base_uri": "https://localhost:8080/"
        },
        "outputId": "a9d4bac5-a0cf-451e-9d29-b8f8f429b648"
      },
      "source": [
        "nltk.download('stopwords')\r\n",
        "\r\n",
        "sp = SimplePreprocessing(query)\r\n",
        "preprocessed_documents_query, unpreprocessed_corpus_query, vocab = sp.preprocess()"
      ],
      "execution_count": null,
      "outputs": [
        {
          "output_type": "stream",
          "text": [
            "[nltk_data] Downloading package stopwords to /root/nltk_data...\n",
            "[nltk_data]   Package stopwords is already up-to-date!\n"
          ],
          "name": "stdout"
        },
        {
          "output_type": "stream",
          "text": [
            "/usr/local/lib/python3.6/dist-packages/nltk/corpus/reader/wordlist.py:28: ResourceWarning: unclosed file <_io.BufferedReader name='/root/nltk_data/corpora/stopwords/english'>\n",
            "  return concat([self.open(f).read() for f in fileids])\n"
          ],
          "name": "stderr"
        }
      ]
    },
    {
      "cell_type": "code",
      "metadata": {
        "id": "QpnatKp3ikpo"
      },
      "source": [
        "qt=QuickText(\"bert-base-nli-mean-tokens\",text_for_bert=unpreprocessed_corpus_query,text_for_bow=preprocessed_documents_query)"
      ],
      "execution_count": null,
      "outputs": []
    },
    {
      "cell_type": "code",
      "metadata": {
        "colab": {
          "base_uri": "https://localhost:8080/"
        },
        "id": "DzXxrC8duiUQ",
        "outputId": "8a6568fa-eb87-457a-dba3-3c23f370e2bf"
      },
      "source": [
        "len(unpreprocessed_corpus_query)"
      ],
      "execution_count": null,
      "outputs": [
        {
          "output_type": "execute_result",
          "data": {
            "text/plain": [
              "611"
            ]
          },
          "metadata": {
            "tags": []
          },
          "execution_count": 111
        }
      ]
    },
    {
      "cell_type": "code",
      "metadata": {
        "id": "CHrvoG3miopY",
        "colab": {
          "base_uri": "https://localhost:8080/",
          "height": 66,
          "referenced_widgets": [
            "d5e0758ff5f24646a4160c82dca94ee6",
            "750a5fba1aed4aa8af433a3fd57814bd",
            "9b7cb5afdf7e43e8af45e2b0df5d50fe",
            "19fe343047a147529f8da52c41621253",
            "afc18aae24ba40b587819ea8190903ba",
            "32bf04d15f044f3cade7941fb3863003",
            "57b09d86be86442ea8abf26e776a42e7",
            "d5aa9f38e17349efbd633fd5d855ab90"
          ]
        },
        "outputId": "c487080f-55f9-42cf-e32c-cd00bc7c9398"
      },
      "source": [
        "testing_dataset=qt.load_dataset()"
      ],
      "execution_count": null,
      "outputs": [
        {
          "output_type": "display_data",
          "data": {
            "application/vnd.jupyter.widget-view+json": {
              "model_id": "d5e0758ff5f24646a4160c82dca94ee6",
              "version_minor": 0,
              "version_major": 2
            },
            "text/plain": [
              "HBox(children=(FloatProgress(value=0.0, description='Batches', max=4.0, style=ProgressStyle(description_width=…"
            ]
          },
          "metadata": {
            "tags": []
          }
        },
        {
          "output_type": "stream",
          "text": [
            "\n"
          ],
          "name": "stdout"
        }
      ]
    },
    {
      "cell_type": "code",
      "metadata": {
        "colab": {
          "base_uri": "https://localhost:8080/"
        },
        "id": "-PSAaEy8KoML",
        "outputId": "0fba38cb-1d2e-4222-ef97-2d614ed0f418"
      },
      "source": [
        "testing_dataset[0]['X_bert'].shape"
      ],
      "execution_count": null,
      "outputs": [
        {
          "output_type": "execute_result",
          "data": {
            "text/plain": [
              "torch.Size([768])"
            ]
          },
          "metadata": {
            "tags": []
          },
          "execution_count": 119
        }
      ]
    },
    {
      "cell_type": "code",
      "metadata": {
        "id": "lrE-YsZMisN3",
        "colab": {
          "base_uri": "https://localhost:8080/",
          "height": 357
        },
        "outputId": "fd095e6a-5445-4a6e-ccf4-b6dab80c3157"
      },
      "source": [
        "ctm.get_thetas(testing_dataset, n_samples=20) # returns a (n_documents, n_topics) matrix with the topic distribution of each document"
      ],
      "execution_count": null,
      "outputs": [
        {
          "output_type": "stream",
          "text": [
            "/usr/local/lib/python3.6/dist-packages/contextualized_topic_models/models/ctm.py:254: DeprecationWarning: Call to `get_thetas` is deprecated and will be removed in version 2, use `get_doc_topic_distribution` instead\n",
            "  DeprecationWarning)\n"
          ],
          "name": "stderr"
        },
        {
          "output_type": "error",
          "ename": "RuntimeError",
          "evalue": "ignored",
          "traceback": [
            "\u001b[0;31m---------------------------------------------------------------------------\u001b[0m",
            "\u001b[0;31mRuntimeError\u001b[0m                              Traceback (most recent call last)",
            "\u001b[0;32m<ipython-input-109-b1d381333ba4>\u001b[0m in \u001b[0;36m<module>\u001b[0;34m()\u001b[0m\n\u001b[0;32m----> 1\u001b[0;31m \u001b[0mctm\u001b[0m\u001b[0;34m.\u001b[0m\u001b[0mget_thetas\u001b[0m\u001b[0;34m(\u001b[0m\u001b[0mtesting_dataset\u001b[0m\u001b[0;34m,\u001b[0m \u001b[0mn_samples\u001b[0m\u001b[0;34m=\u001b[0m\u001b[0;36m20\u001b[0m\u001b[0;34m)\u001b[0m \u001b[0;31m# returns a (n_documents, n_topics) matrix with the topic distribution of each document\u001b[0m\u001b[0;34m\u001b[0m\u001b[0;34m\u001b[0m\u001b[0m\n\u001b[0m",
            "\u001b[0;32m/usr/local/lib/python3.6/dist-packages/contextualized_topic_models/models/ctm.py\u001b[0m in \u001b[0;36mget_thetas\u001b[0;34m(self, dataset, n_samples)\u001b[0m\n\u001b[1;32m    253\u001b[0m                       \u001b[0;34m\"use `get_doc_topic_distribution` instead\"\u001b[0m\u001b[0;34m,\u001b[0m\u001b[0;34m\u001b[0m\u001b[0;34m\u001b[0m\u001b[0m\n\u001b[1;32m    254\u001b[0m                       DeprecationWarning)\n\u001b[0;32m--> 255\u001b[0;31m         \u001b[0;32mreturn\u001b[0m \u001b[0mself\u001b[0m\u001b[0;34m.\u001b[0m\u001b[0mget_doc_topic_distribution\u001b[0m\u001b[0;34m(\u001b[0m\u001b[0mdataset\u001b[0m\u001b[0;34m,\u001b[0m \u001b[0mn_samples\u001b[0m\u001b[0;34m=\u001b[0m\u001b[0mn_samples\u001b[0m\u001b[0;34m)\u001b[0m\u001b[0;34m\u001b[0m\u001b[0;34m\u001b[0m\u001b[0m\n\u001b[0m\u001b[1;32m    256\u001b[0m \u001b[0;34m\u001b[0m\u001b[0m\n\u001b[1;32m    257\u001b[0m     \u001b[0;32mdef\u001b[0m \u001b[0mget_doc_topic_distribution\u001b[0m\u001b[0;34m(\u001b[0m\u001b[0mself\u001b[0m\u001b[0;34m,\u001b[0m \u001b[0mdataset\u001b[0m\u001b[0;34m,\u001b[0m \u001b[0mn_samples\u001b[0m\u001b[0;34m=\u001b[0m\u001b[0;36m20\u001b[0m\u001b[0;34m)\u001b[0m\u001b[0;34m:\u001b[0m\u001b[0;34m\u001b[0m\u001b[0;34m\u001b[0m\u001b[0m\n",
            "\u001b[0;32m/usr/local/lib/python3.6/dist-packages/contextualized_topic_models/models/ctm.py\u001b[0m in \u001b[0;36mget_doc_topic_distribution\u001b[0;34m(self, dataset, n_samples)\u001b[0m\n\u001b[1;32m    285\u001b[0m                     \u001b[0;31m# forward pass\u001b[0m\u001b[0;34m\u001b[0m\u001b[0;34m\u001b[0m\u001b[0;34m\u001b[0m\u001b[0m\n\u001b[1;32m    286\u001b[0m                     \u001b[0mself\u001b[0m\u001b[0;34m.\u001b[0m\u001b[0mmodel\u001b[0m\u001b[0;34m.\u001b[0m\u001b[0mzero_grad\u001b[0m\u001b[0;34m(\u001b[0m\u001b[0;34m)\u001b[0m\u001b[0;34m\u001b[0m\u001b[0;34m\u001b[0m\u001b[0m\n\u001b[0;32m--> 287\u001b[0;31m                     \u001b[0mcollect_theta\u001b[0m\u001b[0;34m.\u001b[0m\u001b[0mextend\u001b[0m\u001b[0;34m(\u001b[0m\u001b[0mself\u001b[0m\u001b[0;34m.\u001b[0m\u001b[0mmodel\u001b[0m\u001b[0;34m.\u001b[0m\u001b[0mget_theta\u001b[0m\u001b[0;34m(\u001b[0m\u001b[0mX\u001b[0m\u001b[0;34m,\u001b[0m \u001b[0mX_bert\u001b[0m\u001b[0;34m)\u001b[0m\u001b[0;34m.\u001b[0m\u001b[0mcpu\u001b[0m\u001b[0;34m(\u001b[0m\u001b[0;34m)\u001b[0m\u001b[0;34m.\u001b[0m\u001b[0mnumpy\u001b[0m\u001b[0;34m(\u001b[0m\u001b[0;34m)\u001b[0m\u001b[0;34m.\u001b[0m\u001b[0mtolist\u001b[0m\u001b[0;34m(\u001b[0m\u001b[0;34m)\u001b[0m\u001b[0;34m)\u001b[0m\u001b[0;34m\u001b[0m\u001b[0;34m\u001b[0m\u001b[0m\n\u001b[0m\u001b[1;32m    288\u001b[0m \u001b[0;34m\u001b[0m\u001b[0m\n\u001b[1;32m    289\u001b[0m                 \u001b[0mfinal_thetas\u001b[0m\u001b[0;34m.\u001b[0m\u001b[0mappend\u001b[0m\u001b[0;34m(\u001b[0m\u001b[0mnp\u001b[0m\u001b[0;34m.\u001b[0m\u001b[0marray\u001b[0m\u001b[0;34m(\u001b[0m\u001b[0mcollect_theta\u001b[0m\u001b[0;34m)\u001b[0m\u001b[0;34m)\u001b[0m\u001b[0;34m\u001b[0m\u001b[0;34m\u001b[0m\u001b[0m\n",
            "\u001b[0;32m/usr/local/lib/python3.6/dist-packages/contextualized_topic_models/networks/decoding_network.py\u001b[0m in \u001b[0;36mget_theta\u001b[0;34m(self, x, x_bert)\u001b[0m\n\u001b[1;32m    126\u001b[0m         \u001b[0;32mwith\u001b[0m \u001b[0mtorch\u001b[0m\u001b[0;34m.\u001b[0m\u001b[0mno_grad\u001b[0m\u001b[0;34m(\u001b[0m\u001b[0;34m)\u001b[0m\u001b[0;34m:\u001b[0m\u001b[0;34m\u001b[0m\u001b[0;34m\u001b[0m\u001b[0m\n\u001b[1;32m    127\u001b[0m             \u001b[0;31m# batch_size x n_components\u001b[0m\u001b[0;34m\u001b[0m\u001b[0;34m\u001b[0m\u001b[0;34m\u001b[0m\u001b[0m\n\u001b[0;32m--> 128\u001b[0;31m             \u001b[0mposterior_mu\u001b[0m\u001b[0;34m,\u001b[0m \u001b[0mposterior_log_sigma\u001b[0m \u001b[0;34m=\u001b[0m \u001b[0mself\u001b[0m\u001b[0;34m.\u001b[0m\u001b[0minf_net\u001b[0m\u001b[0;34m(\u001b[0m\u001b[0mx\u001b[0m\u001b[0;34m,\u001b[0m \u001b[0mx_bert\u001b[0m\u001b[0;34m)\u001b[0m\u001b[0;34m\u001b[0m\u001b[0;34m\u001b[0m\u001b[0m\n\u001b[0m\u001b[1;32m    129\u001b[0m             \u001b[0mposterior_sigma\u001b[0m \u001b[0;34m=\u001b[0m \u001b[0mtorch\u001b[0m\u001b[0;34m.\u001b[0m\u001b[0mexp\u001b[0m\u001b[0;34m(\u001b[0m\u001b[0mposterior_log_sigma\u001b[0m\u001b[0;34m)\u001b[0m\u001b[0;34m\u001b[0m\u001b[0;34m\u001b[0m\u001b[0m\n\u001b[1;32m    130\u001b[0m \u001b[0;34m\u001b[0m\u001b[0m\n",
            "\u001b[0;32m/usr/local/lib/python3.6/dist-packages/torch/nn/modules/module.py\u001b[0m in \u001b[0;36m_call_impl\u001b[0;34m(self, *input, **kwargs)\u001b[0m\n\u001b[1;32m    720\u001b[0m             \u001b[0mresult\u001b[0m \u001b[0;34m=\u001b[0m \u001b[0mself\u001b[0m\u001b[0;34m.\u001b[0m\u001b[0m_slow_forward\u001b[0m\u001b[0;34m(\u001b[0m\u001b[0;34m*\u001b[0m\u001b[0minput\u001b[0m\u001b[0;34m,\u001b[0m \u001b[0;34m**\u001b[0m\u001b[0mkwargs\u001b[0m\u001b[0;34m)\u001b[0m\u001b[0;34m\u001b[0m\u001b[0;34m\u001b[0m\u001b[0m\n\u001b[1;32m    721\u001b[0m         \u001b[0;32melse\u001b[0m\u001b[0;34m:\u001b[0m\u001b[0;34m\u001b[0m\u001b[0;34m\u001b[0m\u001b[0m\n\u001b[0;32m--> 722\u001b[0;31m             \u001b[0mresult\u001b[0m \u001b[0;34m=\u001b[0m \u001b[0mself\u001b[0m\u001b[0;34m.\u001b[0m\u001b[0mforward\u001b[0m\u001b[0;34m(\u001b[0m\u001b[0;34m*\u001b[0m\u001b[0minput\u001b[0m\u001b[0;34m,\u001b[0m \u001b[0;34m**\u001b[0m\u001b[0mkwargs\u001b[0m\u001b[0;34m)\u001b[0m\u001b[0;34m\u001b[0m\u001b[0;34m\u001b[0m\u001b[0m\n\u001b[0m\u001b[1;32m    723\u001b[0m         for hook in itertools.chain(\n\u001b[1;32m    724\u001b[0m                 \u001b[0m_global_forward_hooks\u001b[0m\u001b[0;34m.\u001b[0m\u001b[0mvalues\u001b[0m\u001b[0;34m(\u001b[0m\u001b[0;34m)\u001b[0m\u001b[0;34m,\u001b[0m\u001b[0;34m\u001b[0m\u001b[0;34m\u001b[0m\u001b[0m\n",
            "\u001b[0;32m/usr/local/lib/python3.6/dist-packages/contextualized_topic_models/networks/inference_network.py\u001b[0m in \u001b[0;36mforward\u001b[0;34m(self, x, x_bert)\u001b[0m\n\u001b[1;32m    124\u001b[0m     \u001b[0;32mdef\u001b[0m \u001b[0mforward\u001b[0m\u001b[0;34m(\u001b[0m\u001b[0mself\u001b[0m\u001b[0;34m,\u001b[0m \u001b[0mx\u001b[0m\u001b[0;34m,\u001b[0m \u001b[0mx_bert\u001b[0m\u001b[0;34m)\u001b[0m\u001b[0;34m:\u001b[0m\u001b[0;34m\u001b[0m\u001b[0;34m\u001b[0m\u001b[0m\n\u001b[1;32m    125\u001b[0m         \u001b[0;34m\"\"\"Forward pass.\"\"\"\u001b[0m\u001b[0;34m\u001b[0m\u001b[0;34m\u001b[0m\u001b[0m\n\u001b[0;32m--> 126\u001b[0;31m         \u001b[0mx_bert\u001b[0m \u001b[0;34m=\u001b[0m \u001b[0mself\u001b[0m\u001b[0;34m.\u001b[0m\u001b[0madapt_bert\u001b[0m\u001b[0;34m(\u001b[0m\u001b[0mx_bert\u001b[0m\u001b[0;34m)\u001b[0m\u001b[0;34m\u001b[0m\u001b[0;34m\u001b[0m\u001b[0m\n\u001b[0m\u001b[1;32m    127\u001b[0m         \u001b[0mx\u001b[0m \u001b[0;34m=\u001b[0m \u001b[0mtorch\u001b[0m\u001b[0;34m.\u001b[0m\u001b[0mcat\u001b[0m\u001b[0;34m(\u001b[0m\u001b[0;34m(\u001b[0m\u001b[0mx\u001b[0m\u001b[0;34m,\u001b[0m \u001b[0mx_bert\u001b[0m\u001b[0;34m)\u001b[0m\u001b[0;34m,\u001b[0m \u001b[0;36m1\u001b[0m\u001b[0;34m)\u001b[0m\u001b[0;34m\u001b[0m\u001b[0;34m\u001b[0m\u001b[0m\n\u001b[1;32m    128\u001b[0m         \u001b[0mx\u001b[0m \u001b[0;34m=\u001b[0m \u001b[0mself\u001b[0m\u001b[0;34m.\u001b[0m\u001b[0minput_layer\u001b[0m\u001b[0;34m(\u001b[0m\u001b[0mx\u001b[0m\u001b[0;34m)\u001b[0m\u001b[0;34m\u001b[0m\u001b[0;34m\u001b[0m\u001b[0m\n",
            "\u001b[0;32m/usr/local/lib/python3.6/dist-packages/torch/nn/modules/module.py\u001b[0m in \u001b[0;36m_call_impl\u001b[0;34m(self, *input, **kwargs)\u001b[0m\n\u001b[1;32m    720\u001b[0m             \u001b[0mresult\u001b[0m \u001b[0;34m=\u001b[0m \u001b[0mself\u001b[0m\u001b[0;34m.\u001b[0m\u001b[0m_slow_forward\u001b[0m\u001b[0;34m(\u001b[0m\u001b[0;34m*\u001b[0m\u001b[0minput\u001b[0m\u001b[0;34m,\u001b[0m \u001b[0;34m**\u001b[0m\u001b[0mkwargs\u001b[0m\u001b[0;34m)\u001b[0m\u001b[0;34m\u001b[0m\u001b[0;34m\u001b[0m\u001b[0m\n\u001b[1;32m    721\u001b[0m         \u001b[0;32melse\u001b[0m\u001b[0;34m:\u001b[0m\u001b[0;34m\u001b[0m\u001b[0;34m\u001b[0m\u001b[0m\n\u001b[0;32m--> 722\u001b[0;31m             \u001b[0mresult\u001b[0m \u001b[0;34m=\u001b[0m \u001b[0mself\u001b[0m\u001b[0;34m.\u001b[0m\u001b[0mforward\u001b[0m\u001b[0;34m(\u001b[0m\u001b[0;34m*\u001b[0m\u001b[0minput\u001b[0m\u001b[0;34m,\u001b[0m \u001b[0;34m**\u001b[0m\u001b[0mkwargs\u001b[0m\u001b[0;34m)\u001b[0m\u001b[0;34m\u001b[0m\u001b[0;34m\u001b[0m\u001b[0m\n\u001b[0m\u001b[1;32m    723\u001b[0m         for hook in itertools.chain(\n\u001b[1;32m    724\u001b[0m                 \u001b[0m_global_forward_hooks\u001b[0m\u001b[0;34m.\u001b[0m\u001b[0mvalues\u001b[0m\u001b[0;34m(\u001b[0m\u001b[0;34m)\u001b[0m\u001b[0;34m,\u001b[0m\u001b[0;34m\u001b[0m\u001b[0;34m\u001b[0m\u001b[0m\n",
            "\u001b[0;32m/usr/local/lib/python3.6/dist-packages/torch/nn/modules/linear.py\u001b[0m in \u001b[0;36mforward\u001b[0;34m(self, input)\u001b[0m\n\u001b[1;32m     89\u001b[0m \u001b[0;34m\u001b[0m\u001b[0m\n\u001b[1;32m     90\u001b[0m     \u001b[0;32mdef\u001b[0m \u001b[0mforward\u001b[0m\u001b[0;34m(\u001b[0m\u001b[0mself\u001b[0m\u001b[0;34m,\u001b[0m \u001b[0minput\u001b[0m\u001b[0;34m:\u001b[0m \u001b[0mTensor\u001b[0m\u001b[0;34m)\u001b[0m \u001b[0;34m->\u001b[0m \u001b[0mTensor\u001b[0m\u001b[0;34m:\u001b[0m\u001b[0;34m\u001b[0m\u001b[0;34m\u001b[0m\u001b[0m\n\u001b[0;32m---> 91\u001b[0;31m         \u001b[0;32mreturn\u001b[0m \u001b[0mF\u001b[0m\u001b[0;34m.\u001b[0m\u001b[0mlinear\u001b[0m\u001b[0;34m(\u001b[0m\u001b[0minput\u001b[0m\u001b[0;34m,\u001b[0m \u001b[0mself\u001b[0m\u001b[0;34m.\u001b[0m\u001b[0mweight\u001b[0m\u001b[0;34m,\u001b[0m \u001b[0mself\u001b[0m\u001b[0;34m.\u001b[0m\u001b[0mbias\u001b[0m\u001b[0;34m)\u001b[0m\u001b[0;34m\u001b[0m\u001b[0;34m\u001b[0m\u001b[0m\n\u001b[0m\u001b[1;32m     92\u001b[0m \u001b[0;34m\u001b[0m\u001b[0m\n\u001b[1;32m     93\u001b[0m     \u001b[0;32mdef\u001b[0m \u001b[0mextra_repr\u001b[0m\u001b[0;34m(\u001b[0m\u001b[0mself\u001b[0m\u001b[0;34m)\u001b[0m \u001b[0;34m->\u001b[0m \u001b[0mstr\u001b[0m\u001b[0;34m:\u001b[0m\u001b[0;34m\u001b[0m\u001b[0;34m\u001b[0m\u001b[0m\n",
            "\u001b[0;32m/usr/local/lib/python3.6/dist-packages/torch/nn/functional.py\u001b[0m in \u001b[0;36mlinear\u001b[0;34m(input, weight, bias)\u001b[0m\n\u001b[1;32m   1672\u001b[0m     \u001b[0;32mif\u001b[0m \u001b[0minput\u001b[0m\u001b[0;34m.\u001b[0m\u001b[0mdim\u001b[0m\u001b[0;34m(\u001b[0m\u001b[0;34m)\u001b[0m \u001b[0;34m==\u001b[0m \u001b[0;36m2\u001b[0m \u001b[0;32mand\u001b[0m \u001b[0mbias\u001b[0m \u001b[0;32mis\u001b[0m \u001b[0;32mnot\u001b[0m \u001b[0;32mNone\u001b[0m\u001b[0;34m:\u001b[0m\u001b[0;34m\u001b[0m\u001b[0;34m\u001b[0m\u001b[0m\n\u001b[1;32m   1673\u001b[0m         \u001b[0;31m# fused op is marginally faster\u001b[0m\u001b[0;34m\u001b[0m\u001b[0;34m\u001b[0m\u001b[0;34m\u001b[0m\u001b[0m\n\u001b[0;32m-> 1674\u001b[0;31m         \u001b[0mret\u001b[0m \u001b[0;34m=\u001b[0m \u001b[0mtorch\u001b[0m\u001b[0;34m.\u001b[0m\u001b[0maddmm\u001b[0m\u001b[0;34m(\u001b[0m\u001b[0mbias\u001b[0m\u001b[0;34m,\u001b[0m \u001b[0minput\u001b[0m\u001b[0;34m,\u001b[0m \u001b[0mweight\u001b[0m\u001b[0;34m.\u001b[0m\u001b[0mt\u001b[0m\u001b[0;34m(\u001b[0m\u001b[0;34m)\u001b[0m\u001b[0;34m)\u001b[0m\u001b[0;34m\u001b[0m\u001b[0;34m\u001b[0m\u001b[0m\n\u001b[0m\u001b[1;32m   1675\u001b[0m     \u001b[0;32melse\u001b[0m\u001b[0;34m:\u001b[0m\u001b[0;34m\u001b[0m\u001b[0;34m\u001b[0m\u001b[0m\n\u001b[1;32m   1676\u001b[0m         \u001b[0moutput\u001b[0m \u001b[0;34m=\u001b[0m \u001b[0minput\u001b[0m\u001b[0;34m.\u001b[0m\u001b[0mmatmul\u001b[0m\u001b[0;34m(\u001b[0m\u001b[0mweight\u001b[0m\u001b[0;34m.\u001b[0m\u001b[0mt\u001b[0m\u001b[0;34m(\u001b[0m\u001b[0;34m)\u001b[0m\u001b[0;34m)\u001b[0m\u001b[0;34m\u001b[0m\u001b[0;34m\u001b[0m\u001b[0m\n",
            "\u001b[0;31mRuntimeError\u001b[0m: size mismatch, m1: [64 x 768], m2: [512 x 11810] at /pytorch/aten/src/TH/generic/THTensorMath.cpp:41"
          ]
        }
      ]
    },
    {
      "cell_type": "code",
      "metadata": {
        "id": "YG2jS1GO07_9"
      },
      "source": [
        "ctm.get_predicted_topics(testing_dataset,n_samples=20)"
      ],
      "execution_count": null,
      "outputs": []
    }
  ]
}
